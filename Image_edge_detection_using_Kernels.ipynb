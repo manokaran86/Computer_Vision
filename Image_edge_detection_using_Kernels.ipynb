{
  "nbformat": 4,
  "nbformat_minor": 0,
  "metadata": {
    "colab": {
      "provenance": [],
      "authorship_tag": "ABX9TyNx7obNdtBnslpZQr9UQw+n",
      "include_colab_link": true
    },
    "kernelspec": {
      "name": "python3",
      "display_name": "Python 3"
    },
    "language_info": {
      "name": "python"
    }
  },
  "cells": [
    {
      "cell_type": "markdown",
      "metadata": {
        "id": "view-in-github",
        "colab_type": "text"
      },
      "source": [
        "<a href=\"https://colab.research.google.com/github/manokaran86/Computer_Vision/blob/Master/Image_edge_detection_using_Kernels.ipynb\" target=\"_parent\"><img src=\"https://colab.research.google.com/assets/colab-badge.svg\" alt=\"Open In Colab\"/></a>"
      ]
    },
    {
      "cell_type": "markdown",
      "source": [
        "### **Different types of filters**"
      ],
      "metadata": {
        "id": "3Jj4p3J9ofVn"
      }
    },
    {
      "cell_type": "markdown",
      "source": [
        "##### **Importing necessary libraries**"
      ],
      "metadata": {
        "id": "8FJhLqAwowXj"
      }
    },
    {
      "cell_type": "code",
      "source": [
        "import cv2\n",
        "import numpy as np\n",
        "from google.colab.patches import cv2_imshow"
      ],
      "metadata": {
        "id": "Gm8Jf8mMopKH"
      },
      "execution_count": null,
      "outputs": []
    },
    {
      "cell_type": "code",
      "source": [],
      "metadata": {
        "id": "si7qkUlTolBr"
      },
      "execution_count": null,
      "outputs": []
    }
  ]
}